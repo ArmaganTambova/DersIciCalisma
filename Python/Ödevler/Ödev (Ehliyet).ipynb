{
 "cells": [
  {
   "cell_type": "markdown",
   "metadata": {},
   "source": [
    "Ödev\n",
    "--\n",
    ">- Kullanıcıdan İsim, Soyad, Doğum Yılı, Eğitim Bilgilerini İsteyip Ehliyet Alabilme Durumunu Kontrol Eden Uygulamayı Yazınız.\n",
    ">- \"Ehliyet Alma Koşulu Yaş En Az 18 Ve Eğitim Durumu Lise Veya Üniversite Olmalıdır.\n",
    ">- Şartlar Sağlanıyor İse Ehliyet Alabilirsin Değilse Alamazsın."
   ]
  },
  {
   "cell_type": "code",
   "execution_count": null,
   "metadata": {},
   "outputs": [],
   "source": [
    "isim = input(\"Lütfen Adınızı Giriniz.\")\n",
    "soyad = input(\"Lütfen Soyadınızı Giriniz.\")\n",
    "dogumyili = int(input(\"Lütfen Doğum Yılınızı Giriniz.\"))\n",
    "yas = 2022 - dogumyili\n",
    "if yas < 18:\n",
    "    print(\"Sayın \" + isim + \" \" + soyad)\n",
    "    print(\"Yaşınız Nedeniyle Ehliyet Alamazsınız.\")\n",
    "else:\n",
    "    egitim = input(\"Lütfen Eğitim Seviyenizi Giriniz. (Baş Harfi Büyük Olacak Şekilde)\")\n",
    "    if egitim != \"İlkokul\" and egitim != \"Ortaokul\":\n",
    "        print(\"Sayın \" + isim + \" \" + soyad)\n",
    "        print(\"Ehliyet Alabilirsiniz.\")\n",
    "    else:\n",
    "        print(\"Sayın \" + isim + \" \" + soyad)\n",
    "        print(\"Eğitim Seviyenizin Yetersizliğinden Ötürü Ehliyet Alamazsınız.\")"
   ]
  }
 ],
 "metadata": {
  "kernelspec": {
   "display_name": "Python 3.10.8 64-bit",
   "language": "python",
   "name": "python3"
  },
  "language_info": {
   "codemirror_mode": {
    "name": "ipython",
    "version": 3
   },
   "file_extension": ".py",
   "mimetype": "text/x-python",
   "name": "python",
   "nbconvert_exporter": "python",
   "pygments_lexer": "ipython3",
   "version": "3.10.8"
  },
  "orig_nbformat": 4,
  "vscode": {
   "interpreter": {
    "hash": "81b02ec2e8252d4d27e8f5a7dd14df3a24d0b70297d5edae178d6b04e5ee4e4b"
   }
  }
 },
 "nbformat": 4,
 "nbformat_minor": 2
}
