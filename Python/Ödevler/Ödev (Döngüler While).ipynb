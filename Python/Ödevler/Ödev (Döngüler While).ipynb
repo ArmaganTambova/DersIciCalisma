{
 "cells": [
  {
   "cell_type": "markdown",
   "metadata": {},
   "source": [
    "Ödev 1\n",
    "--\n",
    "Konsoldan Girilen Sayıların Ortalamasını Hesaplayınız."
   ]
  },
  {
   "cell_type": "code",
   "execution_count": null,
   "metadata": {},
   "outputs": [],
   "source": [
    "sayi = 0\n",
    "toplam = 0\n",
    "ortalama = 0\n",
    "secenek = \"Q\"\n",
    "sayac = 1\n",
    "deger = 0\n",
    "while secenek != \"q\":\n",
    "    sayi = int(input(str(sayac) + \". Sayıyı Giriniz.\"))\n",
    "    toplam = toplam + sayi\n",
    "    sayac += 1\n",
    "    deger += 1\n",
    "    secenek = input(\"Devam Etmek İstemiyorsanız q Tuşuna Basınız.\")\n",
    "ortalama = toplam / deger\n",
    "print(str(deger) + \" Tane Sayı Girdiniz.\")\n",
    "print(\"Ortalama = \" + str(ortalama))"
   ]
  },
  {
   "cell_type": "markdown",
   "metadata": {},
   "source": [
    "Ödev 2\n",
    "--\n",
    "Çarpım Tablosunun 3'ler Basamağını Yazdırınız.\n",
    ">- 3 X 1 = 3\n",
    ">- 3 X 2 = 6"
   ]
  },
  {
   "cell_type": "code",
   "execution_count": null,
   "metadata": {},
   "outputs": [],
   "source": [
    "carpim = 3\n",
    "carpan = 1\n",
    "sonuc = 3\n",
    "while carpan <= 10:\n",
    "    print(str(carpim) + \" X \" + str(carpan) + \" = \" + str(sonuc))\n",
    "    carpan += 1\n",
    "    sonuc = carpim * carpan"
   ]
  }
 ],
 "metadata": {
  "kernelspec": {
   "display_name": "Python 3.10.8 64-bit",
   "language": "python",
   "name": "python3"
  },
  "language_info": {
   "codemirror_mode": {
    "name": "ipython",
    "version": 3
   },
   "file_extension": ".py",
   "mimetype": "text/x-python",
   "name": "python",
   "nbconvert_exporter": "python",
   "pygments_lexer": "ipython3",
   "version": "3.10.8"
  },
  "orig_nbformat": 4,
  "vscode": {
   "interpreter": {
    "hash": "81b02ec2e8252d4d27e8f5a7dd14df3a24d0b70297d5edae178d6b04e5ee4e4b"
   }
  }
 },
 "nbformat": 4,
 "nbformat_minor": 2
}
