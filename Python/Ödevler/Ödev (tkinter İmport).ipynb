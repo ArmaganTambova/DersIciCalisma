{
 "cells": [
  {
   "cell_type": "code",
   "execution_count": 1,
   "metadata": {},
   "outputs": [],
   "source": [
    "from tkinter import *\n",
    "pencere = Tk()\n",
    "pencere.title(\"Matrix Yazılım 9/D Sınıfı Bir Öğrenci Bilgisi\")\n",
    "pencere.geometry(\"1500x700\")\n",
    "uygulama = Frame(pencere)\n",
    "uygulama.grid()\n",
    "lblisim = Label (uygulama, text= \"Armağan\")\n",
    "lblisim.grid(padx=10, pady=10)\n",
    "lblsoyisim = Label (uygulama, text= \"Tambova\")\n",
    "lblsoyisim.grid(padx=20, pady=20)\n",
    "lblyaş = Label (uygulama, text= \"15\")\n",
    "lblyaş.grid(padx=30, pady=30)\n",
    "lblsınıf = Label (uygulama, text= \"9/D\")\n",
    "lblsınıf.grid(padx=40, pady=40)\n",
    "lblşehir = Label (uygulama, text= \"Eskişehir\")\n",
    "lblşehir.grid(padx=50, pady=50)\n",
    "lblilçe = Label (uygulama, text= \"Odunpazarı\")\n",
    "lblilçe.grid(padx=60, pady=60)\n",
    "pencere.mainloop()"
   ]
  }
 ],
 "metadata": {
  "kernelspec": {
   "display_name": "Python 3.10.8 64-bit",
   "language": "python",
   "name": "python3"
  },
  "language_info": {
   "codemirror_mode": {
    "name": "ipython",
    "version": 3
   },
   "file_extension": ".py",
   "mimetype": "text/x-python",
   "name": "python",
   "nbconvert_exporter": "python",
   "pygments_lexer": "ipython3",
   "version": "3.10.8"
  },
  "orig_nbformat": 4,
  "vscode": {
   "interpreter": {
    "hash": "81b02ec2e8252d4d27e8f5a7dd14df3a24d0b70297d5edae178d6b04e5ee4e4b"
   }
  }
 },
 "nbformat": 4,
 "nbformat_minor": 2
}
