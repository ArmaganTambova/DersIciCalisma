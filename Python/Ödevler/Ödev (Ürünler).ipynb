{
 "cells": [
  {
   "cell_type": "markdown",
   "metadata": {},
   "source": [
    "Ödev 1\n",
    "--\n",
    "Satın Alınan Ürünler Ayrı Bir Dizide Toplanıp Alış Veriş Bittikten Sonra Alınan Ürünler Listelendikten Sonra Toplam Yazdırılacak"
   ]
  },
  {
   "cell_type": "code",
   "execution_count": null,
   "metadata": {},
   "outputs": [],
   "source": [
    "urunler = [\"Domates\", \"Biber\", \"Soğan\", \"Ekmek\", \"Süt\", \"Doritos\", \"Kalem\"]\n",
    "fiyatlar = [12.9, 15.8, 15, 4, 18.25, 18, 25]\n",
    "satinaldiklarin = []\n",
    "sayac = 0\n",
    "index = -1\n",
    "sayac1 = 0\n",
    "toplam = 0\n",
    "s = \"Q\"\n",
    "for urun in urunler:\n",
    "    print(str(sayac1 + 1) + \") \" + urun + \" \" + str(fiyatlar[sayac1]) + \" TL\")\n",
    "    sayac1 += 1\n",
    "while s != \"q\":\n",
    "    if sayac < len(urunler):\n",
    "        veri = int(input(\"Lütfen Satın Almak İstediğiniz Ürünün Numarasını Giriniz.\"))\n",
    "        index = veri - 1\n",
    "        toplam += fiyatlar[index]\n",
    "        satinaldiklarin.append(urunler[index])\n",
    "        s = input(\"Ürün Eklemeye Devam Etmek İstiyorsanız Enter, İstemiyorsanız q Tuşuna Basınız.\")\n",
    "print(\" \")\n",
    "print(\"Satın Aldığınız Ürünler :\")\n",
    "for satin in satinaldiklarin:\n",
    "    print(satin)\n",
    "print(\"Ödemeniz Gereken Tutar = \" + str(toplam) + \" TL\")"
   ]
  },
  {
   "cell_type": "markdown",
   "metadata": {},
   "source": [
    "Ödev 2\n",
    "--\n",
    "Extradan Kaç Adet Alacağını Ekle"
   ]
  },
  {
   "cell_type": "code",
   "execution_count": null,
   "metadata": {},
   "outputs": [],
   "source": [
    "urunler = [\"Domates\", \"Biber\", \"Soğan\", \"Ekmek\", \"Süt\", \"Doritos\", \"Kalem\"]\n",
    "fiyatlar = [12.9, 15.8, 15, 4, 18.25, 18, 25]\n",
    "satinaldiklarin = []\n",
    "adetler = []\n",
    "adet = 0\n",
    "sayac = 0\n",
    "index = -1\n",
    "sayac1 = 0\n",
    "toplam = 0\n",
    "sayac2 = 0\n",
    "s = \"Q\"\n",
    "for urun in urunler:\n",
    "    print(str(sayac1 + 1) + \") \" + urun + \" \" + str(fiyatlar[sayac1]) + \" TL\")\n",
    "    sayac1 += 1\n",
    "while s != \"q\":\n",
    "    if sayac < len(urunler):\n",
    "        veri = int(input(\"Lütfen Satın Almak İstediğiniz Ürünün Numarasını Giriniz.\"))\n",
    "        index = veri - 1\n",
    "        adet = int(input(\"Lütfen Kaç Adet Almak İstediğinizi Giriniz. \" + urunler[index]))\n",
    "        adetler.append(adet)\n",
    "        toplam = toplam + (fiyatlar[index] * adet)\n",
    "        satinaldiklarin.append(urunler[index])\n",
    "        s = input(\"Ürün Eklemeye Devam Etmek İstiyorsanız Enter, İstemiyorsanız q Tuşuna Basınız.\")\n",
    "print(\" \")\n",
    "print(\"Satın Aldığınız Ürünler :\")\n",
    "for satin in satinaldiklarin:\n",
    "    print(str(adetler[sayac2]) + \"X \" + satin)\n",
    "    sayac2 += 1\n",
    "print(\"Ödemeniz Gereken Tutar = \" + str(toplam) + \" TL\")"
   ]
  },
  {
   "cell_type": "markdown",
   "metadata": {},
   "source": [
    "Ödev 3\n",
    "--\n",
    "Extradan\n",
    "\n",
    "Örn:\n",
    ">- Biber İse: Kaç Kilogram İstediğini Sor\n",
    ">- Doritos İse: Kaç Paket İstediğini Sor"
   ]
  },
  {
   "cell_type": "code",
   "execution_count": null,
   "metadata": {},
   "outputs": [],
   "source": [
    "urunler = [\"Domates\", \"Biber\", \"Soğan\", \"Ekmek\", \"Süt\", \"Doritos\", \"Kalem\"]\n",
    "fiyatlar = [12.9, 15.8, 15, 4, 18.25, 18, 25]\n",
    "birimler = [\"Kilo\", \"Kilo\", \"Kilo\", \"Adet\", \"Litre\", \"Adet\", \"Adet\"]\n",
    "satinaldiklarin = []\n",
    "adetler = []\n",
    "adet = 0\n",
    "sayac = 0\n",
    "index = -1\n",
    "sayac1 = 0\n",
    "toplam = 0\n",
    "sayac2 = 0\n",
    "s = \"Q\"\n",
    "for urun in urunler:\n",
    "    print(str(sayac1 + 1) + \") \" + urun + \" \" + str(fiyatlar[sayac1]) + \" TL\")\n",
    "    sayac1 += 1\n",
    "while s != \"q\":\n",
    "    if sayac < len(urunler):\n",
    "        veri = int(input(\"Lütfen Satın Almak İstediğiniz Ürünün Numarasını Giriniz.\"))\n",
    "        index = veri - 1\n",
    "        adet = int(input(\"Lütfen Kaç \" + birimler[index] + \" \" + urunler[index] + \" Almak İstediğinizi Giriniz. \"))\n",
    "        adetler.append(adet)\n",
    "        toplam = toplam + (fiyatlar[index] * adet)\n",
    "        satinaldiklarin.append(urunler[index])\n",
    "        s = input(\"Ürün Eklemeye Devam Etmek İstiyorsanız Enter, İstemiyorsanız q Tuşuna Basınız.\")\n",
    "print(\" \")\n",
    "print(\"Satın Aldığınız Ürünler :\")\n",
    "for satin in satinaldiklarin:\n",
    "    print(str(adetler[sayac2]) + \"X \" + satin)\n",
    "    sayac2 += 1\n",
    "print(\"Ödemeniz Gereken Tutar = \" + str(toplam) + \" TL\")"
   ]
  }
 ],
 "metadata": {
  "kernelspec": {
   "display_name": "Python 3.10.8 64-bit",
   "language": "python",
   "name": "python3"
  },
  "language_info": {
   "codemirror_mode": {
    "name": "ipython",
    "version": 3
   },
   "file_extension": ".py",
   "mimetype": "text/x-python",
   "name": "python",
   "nbconvert_exporter": "python",
   "pygments_lexer": "ipython3",
   "version": "3.10.8"
  },
  "orig_nbformat": 4,
  "vscode": {
   "interpreter": {
    "hash": "81b02ec2e8252d4d27e8f5a7dd14df3a24d0b70297d5edae178d6b04e5ee4e4b"
   }
  }
 },
 "nbformat": 4,
 "nbformat_minor": 2
}
