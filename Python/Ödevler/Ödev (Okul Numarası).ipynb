{
 "cells": [
  {
   "cell_type": "code",
   "execution_count": null,
   "metadata": {},
   "outputs": [],
   "source": [
    "# İsim / Soyisim / Yeni Okul Numarasını (517) Girip Print Komutuyla Yazdır.\n",
    "isim = input(\"Lütfen Adınızı Giriniz.\")\n",
    "soyisim = input(\"Lütfen Soyadınızı Giriniz.\")\n",
    "okulnumarasi = input(\"Lütfen Yeni Okul Numaranızı Giriniz.\")\n",
    "print(\"Merhaba \" + isim + \" \" + soyisim)\n",
    "print(\"Yeni Okul Numaranız \" + okulnumarasi)"
   ]
  }
 ],
 "metadata": {
  "kernelspec": {
   "display_name": "Python 3.10.8 64-bit",
   "language": "python",
   "name": "python3"
  },
  "language_info": {
   "codemirror_mode": {
    "name": "ipython",
    "version": 3
   },
   "file_extension": ".py",
   "mimetype": "text/x-python",
   "name": "python",
   "nbconvert_exporter": "python",
   "pygments_lexer": "ipython3",
   "version": "3.10.8"
  },
  "orig_nbformat": 4,
  "vscode": {
   "interpreter": {
    "hash": "81b02ec2e8252d4d27e8f5a7dd14df3a24d0b70297d5edae178d6b04e5ee4e4b"
   }
  }
 },
 "nbformat": 4,
 "nbformat_minor": 2
}
