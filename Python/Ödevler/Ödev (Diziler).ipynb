{
 "cells": [
  {
   "cell_type": "markdown",
   "metadata": {},
   "source": [
    "Ödev\n",
    "--\n",
    "Alış Veriş Listesi Kaydedip Sırala\n",
    ">- 1. Peynir\n",
    ">- 2. Süt"
   ]
  },
  {
   "cell_type": "code",
   "execution_count": null,
   "metadata": {},
   "outputs": [],
   "source": [
    "urunler = []\n",
    "degerler = []\n",
    "secenek = \"Q\"\n",
    "deger = 0\n",
    "while secenek != \"q\":\n",
    "    urun = input(\"Lütfen Listeye Eklemek İstediğiniz Ürünü Giriniz.\")\n",
    "    urunler.append(urun)\n",
    "    deger += 1\n",
    "    degerler.append(deger)\n",
    "    secenek = input(\"Liste Hazırlamaya Devam Etmek İstiyorsanız Lütfen Enter Tuşuna Basınız. Devam Etmek İstemiyorsanız q Tuşuna Basınız.\")\n",
    "sayac = 0\n",
    "print(\"Listeniz :\")\n",
    "while sayac < len(degerler):\n",
    "    print(str(degerler[sayac]) + \". \" + urunler[sayac])\n",
    "    sayac += 1"
   ]
  }
 ],
 "metadata": {
  "kernelspec": {
   "display_name": "Python 3.10.8 64-bit",
   "language": "python",
   "name": "python3"
  },
  "language_info": {
   "codemirror_mode": {
    "name": "ipython",
    "version": 3
   },
   "file_extension": ".py",
   "mimetype": "text/x-python",
   "name": "python",
   "nbconvert_exporter": "python",
   "pygments_lexer": "ipython3",
   "version": "3.10.8"
  },
  "orig_nbformat": 4,
  "vscode": {
   "interpreter": {
    "hash": "81b02ec2e8252d4d27e8f5a7dd14df3a24d0b70297d5edae178d6b04e5ee4e4b"
   }
  }
 },
 "nbformat": 4,
 "nbformat_minor": 2
}
