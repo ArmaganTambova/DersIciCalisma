{
 "cells": [
  {
   "cell_type": "markdown",
   "metadata": {},
   "source": [
    "Ödev 1 \n",
    "--\n",
    "Girilen Üç Sayıyı Büyüklük Olarak Karşılaştıran Python Uygulamasını Yapınız."
   ]
  },
  {
   "cell_type": "code",
   "execution_count": null,
   "metadata": {},
   "outputs": [],
   "source": [
    "sayi1 = int(input(\"Lütfen İlk Sayıyı Giriniz.\"))\n",
    "sayi2 = int(input(\"Lütfen İkinci Sayıyı Giriniz.\"))\n",
    "sayi3 = int(input(\"Lütfen İçincü Sayıyı Giriniz.\"))\n",
    "if sayi1 >= sayi2 and sayi1 >= sayi3:\n",
    "    buyuk = sayi1\n",
    "elif sayi2 >= sayi1 and sayi2 >= sayi3:\n",
    "    buyuk = sayi2\n",
    "else:\n",
    "    buyuk = sayi3\n",
    "print(\"Girilen Sayılardan En Büyük Olanı \" + str(buyuk))"
   ]
  },
  {
   "cell_type": "markdown",
   "metadata": {},
   "source": [
    "Ödev 2\n",
    "--\n",
    "Bir Öğrencinin 2 Yazılı 1 Sözlü Notunu Alıp Hesaplanan Ortalamaya Göre Not Aralığına Karşılık Gelen Not Bilgisini Yazdıran Pyhton Uygulamasını Yapınız.\n",
    "\n",
    ">- 0 - 24 = 0\n",
    ">- 25 - 44 = 1 \n",
    ">- 45 - 54 = 2\n",
    ">- 55 - 69 = 3\n",
    ">- 70 - 84 = 4\n",
    ">- 85 - 100 = 5"
   ]
  },
  {
   "cell_type": "code",
   "execution_count": null,
   "metadata": {},
   "outputs": [],
   "source": [
    "not1 = int(input(\"Lütfen İlk Yazılı Notunuzu Giriniz.\"))\n",
    "not2= int(input(\"Lütfen İkinci Yazılı Notunuzu Giriniz.\"))\n",
    "sozlu = int(input(\"Lütfen Sözlü Notunuzu Giriniz.\"))\n",
    "ortalama = (not1 + not2 + sozlu) / 3\n",
    "if ortalama >= 0 and ortalama <= 24:\n",
    "    aralik = \"0\"\n",
    "elif ortalama >= 25 and ortalama <= 44:\n",
    "    aralik = \"1\"\n",
    "elif ortalama >= 45 and ortalama <= 54:\n",
    "    aralik = \"2\"\n",
    "elif ortalama >= 55 and ortalama <= 69:\n",
    "    aralik = \"3\"\n",
    "elif ortalama >= 70 and ortalama <= 84:\n",
    "    aralik = \"4\"\n",
    "else:\n",
    "    aralik = \"5\"\n",
    "print(\"Ortalamanız = \" + str(ortalama))\n",
    "print(\"Ortalamaya Göre Not Aralığına Karşılık Gelen Not Bilgisi = \" + aralik)"
   ]
  },
  {
   "cell_type": "markdown",
   "metadata": {},
   "source": [
    "Ödev 3\n",
    "--\n",
    "Kullanıcıdan İki Vize (%60) Ve Final (%40) Notunu Alıp Hesaplayan, Eğer Ortalama 50 Ve Üstündeyse Geçti Değilse Kaldı Yazdıran Uygulama Yapınız.\n",
    ">- Ortalama 50 Olsa Bile Final Notu En Az 50 Olmalıdır."
   ]
  },
  {
   "cell_type": "code",
   "execution_count": null,
   "metadata": {},
   "outputs": [],
   "source": [
    "vize1 = int(input(\"Lütfen İlk Vize Notunu Giriniz.\"))\n",
    "vize2 = int(input(\"Lütfen İkinci Vize Notunu Giriniz.\"))\n",
    "final = int(input(\"Lütfen Final Notunu Giriniz.\"))\n",
    "if final < 50:\n",
    "    print(\"Kaldınız.\")\n",
    "else:\n",
    "    ortalama = (vize1 + vize2 + final) / 3\n",
    "    if ortalama < 50:\n",
    "        print(\"Ortalamanız =\" + str(ortalama))\n",
    "        print(\"Kaldınız.\")\n",
    "    else:\n",
    "        print(\"Ortalamanız =\" + str(ortalama))\n",
    "        print(\"Tebrikler Geçtiniz.\")"
   ]
  },
  {
   "cell_type": "markdown",
   "metadata": {},
   "source": [
    "Ödev 4\n",
    "--\n",
    "Kişinin Ad, Kilo Ve Boy Bilgilerini Alıp Kilo Endekslerini Hesaplayan Python Uygulamasını Yapınız. Formül (Kilo / Boy Uzunluğunun Karesi).\n",
    "Aşağıdaki Tabloya Göre Kişi Hangi Gruba Girmelidir.\n",
    ">- 0 - 18,4 = Zayıf \n",
    ">- 18,5 - 24,9 = Normal\n",
    ">- 25,0 - 29,9 = Fazla Kilolu\n",
    ">- 30,0 - 34,9 = Obez"
   ]
  },
  {
   "cell_type": "code",
   "execution_count": null,
   "metadata": {},
   "outputs": [],
   "source": [
    "ad = input(\"Lütfen Adınızı Giriniz.\")\n",
    "kilo = int(input(\"Lütfen Kilonuzu Giriniz.\"))\n",
    "boy = float(input(\"Lütfen Boyunuzu Giriniz. Nokta Koymayı Unutmayınız (Örnek : 1.83).\"))\n",
    "kiloendeksi = kilo / (boy * boy)\n",
    "if kiloendeksi > 0 and kiloendeksi < 18.4:\n",
    "    endeks = \"Zayıf\"\n",
    "elif kiloendeksi > 18.5 and kiloendeksi < 24.9:\n",
    "    endeks = \"Normal\"\n",
    "elif kiloendeksi > 25.0 and kiloendeksi < 29.9:\n",
    "    endeks = \"Fazla Kilolu\"\n",
    "else:\n",
    "    endeks = \"Obez\"\n",
    "print(\"Sayın \" + ad + \";\")\n",
    "print(\"Kilo Endeksiniz = \" + str(kiloendeksi))\n",
    "print(endeks)"
   ]
  }
 ],
 "metadata": {
  "kernelspec": {
   "display_name": "Python 3.10.8 64-bit",
   "language": "python",
   "name": "python3"
  },
  "language_info": {
   "codemirror_mode": {
    "name": "ipython",
    "version": 3
   },
   "file_extension": ".py",
   "mimetype": "text/x-python",
   "name": "python",
   "nbconvert_exporter": "python",
   "pygments_lexer": "ipython3",
   "version": "3.10.8"
  },
  "orig_nbformat": 4,
  "vscode": {
   "interpreter": {
    "hash": "81b02ec2e8252d4d27e8f5a7dd14df3a24d0b70297d5edae178d6b04e5ee4e4b"
   }
  }
 },
 "nbformat": 4,
 "nbformat_minor": 2
}
