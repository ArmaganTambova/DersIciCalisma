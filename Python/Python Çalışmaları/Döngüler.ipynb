{
 "cells": [
  {
   "cell_type": "markdown",
   "metadata": {},
   "source": [
    "While Döngüsü\n",
    "--\n",
    "İngilizce bir kelime olan \"while\", Türkçe'de .... iken, .... olduğu sürece gibi anlama gelir.\n",
    "Python'da while kendisine verilen şart sağlandığı sürece sürekli çalışan bir yapıdır.\n",
    "\n",
    "While basitçe aşağıdaki örneklerde tanımlanmıştır.\n",
    "\n",
    "Bir döngünün sağlıklı bir biçimde oluşması için 3 eleman gerekir.\n",
    "> 1. Başlangıç değişkeni ve başlangıç değeri.\n",
    "> 2. Koşul (Döngüyü Kırabilmek İçin).\n",
    "> 3. İterasyon (Artış Miktarı)."
   ]
  },
  {
   "cell_type": "code",
   "execution_count": null,
   "metadata": {},
   "outputs": [],
   "source": [
    "sayi = 10\n",
    "while sayi > 5:\n",
    "    print(\"Selam\")"
   ]
  },
  {
   "cell_type": "code",
   "execution_count": null,
   "metadata": {},
   "outputs": [],
   "source": [
    "sayac = 1\n",
    "while sayac <= 10:\n",
    "    print(sayac)\n",
    "    sayac = sayac + 1"
   ]
  },
  {
   "cell_type": "code",
   "execution_count": null,
   "metadata": {},
   "outputs": [],
   "source": [
    "sayac = 100\n",
    "while sayac >= 1:\n",
    "    print(sayac)\n",
    "    sayac = sayac - 1"
   ]
  },
  {
   "cell_type": "code",
   "execution_count": null,
   "metadata": {},
   "outputs": [],
   "source": [
    "sayac = 1\n",
    "while sayac <= 100:\n",
    "    if sayac % 2 == 0:\n",
    "        print(sayac)\n",
    "    sayac = sayac + 1"
   ]
  },
  {
   "cell_type": "code",
   "execution_count": null,
   "metadata": {},
   "outputs": [],
   "source": [
    "# Başlangıç ve Bitiş Değerli Alıp Arasındaki Çift Sayıları Yazdır\n",
    "baslangic = int(input(\"Lütfen Başlangıç Değerini Giriniz.\"))\n",
    "bitis = int(input(\"Lütfen Bitiş Değerini Giriniz.\"))\n",
    "sayac = baslangic\n",
    "if bitis < baslangic:\n",
    "    print(\"Hata\")\n",
    "    print(\"Lütfen Tekrar Deneyiniz\")\n",
    "else:\n",
    "    while sayac <= bitis:\n",
    "        if sayac % 2 == 0:\n",
    "            print(sayac)\n",
    "        sayac = sayac + 1"
   ]
  },
  {
   "cell_type": "markdown",
   "metadata": {},
   "source": [
    "Sonsuz döngünün avantajı."
   ]
  },
  {
   "cell_type": "code",
   "execution_count": null,
   "metadata": {},
   "outputs": [],
   "source": [
    "# Sonsuz Döngü\n",
    "secenek = \"Hadi Bakiim\"\n",
    "while secenek != \"q\":\n",
    "    print(\"Selam Napin?\")\n",
    "    secenek = input(\"Çıkış İçin q ya Basınız. Devam İçin enter\")"
   ]
  },
  {
   "cell_type": "code",
   "execution_count": null,
   "metadata": {},
   "outputs": [],
   "source": [
    "sayac = 0\n",
    "adet = 0\n",
    "while sayac <= 100:\n",
    "    if sayac % 4 == 0:\n",
    "        adet = adet + 1\n",
    "    sayac = sayac +1\n",
    "print(\"Adet = \" + str(adet))"
   ]
  },
  {
   "cell_type": "code",
   "execution_count": null,
   "metadata": {},
   "outputs": [],
   "source": [
    "sayac = 0\n",
    "adet = 0\n",
    "toplam = 0\n",
    "while sayac <= 100:\n",
    "    if sayac % 4 == 0:\n",
    "        adet = adet + 1\n",
    "        toplam = toplam + sayac\n",
    "    sayac = sayac + 1\n",
    "print(\"Adet = \" + str(adet))\n",
    "print(\"Toplam = \" + str(toplam))"
   ]
  },
  {
   "cell_type": "code",
   "execution_count": null,
   "metadata": {},
   "outputs": [],
   "source": [
    "# 10 Tane Sayı Alıp Ortalamasını Hesaplama\n",
    "sayac = 1\n",
    "sayi = 0\n",
    "toplam = 0\n",
    "ortalama = 0\n",
    "while sayac <= 10:\n",
    "    sayi = int(input(str(sayac) + \". Sayıyı Giriniz.\"))\n",
    "    toplam = toplam + sayi\n",
    "    sayac += 1\n",
    "ortalama = toplam / 10\n",
    "print(\"Ortalama = \" + str(ortalama))"
   ]
  },
  {
   "cell_type": "code",
   "execution_count": null,
   "metadata": {},
   "outputs": [],
   "source": [
    "# Çarpım Tablosu\n",
    "carpim = int(input(\"Lütfen Tablosunu Yazdırmak İstediğiniz Basamak Değerini Giriniz.\"))\n",
    "carpan = 1\n",
    "sonuc = carpim\n",
    "while carpan <= 10:\n",
    "    print(str(carpim) + \" X \" + str(carpan) + \" = \" + str(sonuc))\n",
    "    carpan += 1\n",
    "    sonuc = carpim * carpan"
   ]
  },
  {
   "cell_type": "code",
   "execution_count": null,
   "metadata": {},
   "outputs": [],
   "source": [
    "# Çarpım Tablosu\n",
    "carpim = int(input(\"Lütfen Tablosunu Yazdırmak İstediğiniz Basamak Değerini Giriniz.\"))\n",
    "carpan = 1\n",
    "sonuc = carpim\n",
    "if carpim >= 1 and carpim <= 10:\n",
    "    while carpan <= 10:\n",
    "        print(str(carpim) + \" X \" + str(carpan) + \" = \" + str(sonuc))\n",
    "        carpan += 1\n",
    "        sonuc = carpim * carpan\n",
    "else:\n",
    "    print(\"Lütfen 1 İle 10 Arasındaki Bir Sayıyı Giriniz.\")"
   ]
  }
 ],
 "metadata": {
  "kernelspec": {
   "display_name": "Python 3.10.8 64-bit",
   "language": "python",
   "name": "python3"
  },
  "language_info": {
   "codemirror_mode": {
    "name": "ipython",
    "version": 3
   },
   "file_extension": ".py",
   "mimetype": "text/x-python",
   "name": "python",
   "nbconvert_exporter": "python",
   "pygments_lexer": "ipython3",
   "version": "3.10.8"
  },
  "orig_nbformat": 4,
  "vscode": {
   "interpreter": {
    "hash": "81b02ec2e8252d4d27e8f5a7dd14df3a24d0b70297d5edae178d6b04e5ee4e4b"
   }
  }
 },
 "nbformat": 4,
 "nbformat_minor": 2
}
