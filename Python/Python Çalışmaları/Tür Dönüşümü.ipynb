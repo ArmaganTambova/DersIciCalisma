{
 "cells": [
  {
   "cell_type": "markdown",
   "metadata": {},
   "source": [
    "Metinsel veri türüne \"string (str)\" adı verilir.\n",
    "Metinsel veriler yazılırken \"\" arasında yazılmalıdır.\n",
    "\n",
    "Sayısal veri türlerine \"integer(int)\" veya \"float\" adı verilir.\n",
    "int = Tam sayılar için kullanılır.\n",
    "float = Ondalık sayılar için kullanılır.\n",
    "\n",
    "Karar işlemleri için kullanılan, True veya False değer alabilen veri türüne \"Bool(Boolean)\" adı verilir.\n",
    "\n",
    "Not: Bir veri matematiksel işlemlerde kullanılacak ise türü mutlaka \"int\" veya \"float\" olmalıdır.\n",
    "\n",
    "Not: Bilgisayara veri girişinin türü her zaman \"str\"dir."
   ]
  },
  {
   "cell_type": "code",
   "execution_count": null,
   "metadata": {},
   "outputs": [],
   "source": [
    "# İsim ve Doğum Tarihini Kullanıcıdan Alıp, İsim ve Yaş Yazan Program\n",
    "isim = input(\"Lütfen İsminizi Giriniz.\")\n",
    "dogumyili = int(input(\"Lütfen Doğum Yılınızı Giriniz.\"))\n",
    "yas = 2022 - dogumyili\n",
    "print(\"Merhaba \" + isim)\n",
    "print(\"Yaşınız \" + str(yas))"
   ]
  },
  {
   "cell_type": "code",
   "execution_count": null,
   "metadata": {},
   "outputs": [],
   "source": [
    "# İsim ve Doğum Tarihini Kullanıcıdan Alıp, İsim ve Yaş Yazan Program\n",
    "isim = input(\"Lütfen İsminizi Giriniz.\")\n",
    "dogumyili = int(input(\"Lütfen Doğum Yılınızı Giriniz.\"))\n",
    "bulunanyıl = int(input(\"Lütfen Bulunduğunuz Yılı Giriniz.\"))\n",
    "yas = bulunanyıl - dogumyili\n",
    "if yas < 0:\n",
    "    print(\"Error\")\n",
    "    print(\"Lütfen Tekrar Deneyiniz.\")\n",
    "else:\n",
    "    print(\"Merhaba \" + isim)\n",
    "    print(\"Yaşınız \" + str(yas))"
   ]
  }
 ],
 "metadata": {
  "kernelspec": {
   "display_name": "Python 3.10.8 64-bit",
   "language": "python",
   "name": "python3"
  },
  "language_info": {
   "codemirror_mode": {
    "name": "ipython",
    "version": 3
   },
   "file_extension": ".py",
   "mimetype": "text/x-python",
   "name": "python",
   "nbconvert_exporter": "python",
   "pygments_lexer": "ipython3",
   "version": "3.10.8"
  },
  "orig_nbformat": 4,
  "vscode": {
   "interpreter": {
    "hash": "81b02ec2e8252d4d27e8f5a7dd14df3a24d0b70297d5edae178d6b04e5ee4e4b"
   }
  }
 },
 "nbformat": 4,
 "nbformat_minor": 2
}
