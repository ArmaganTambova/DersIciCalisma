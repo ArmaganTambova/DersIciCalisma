{
 "cells": [
  {
   "cell_type": "code",
   "execution_count": null,
   "metadata": {},
   "outputs": [],
   "source": [
    "import datetime as tarih\n",
    "import locale\n",
    "locale.setlocale(locale.LC_ALL, 'Turkish')\n",
    "simdi = tarih.datetime.now()\n",
    "print(\"Şimdi = \" + str(simdi))\n",
    "\n",
    "print(\"Gün = \" + str(simdi.day))\n",
    "print(\"Ay = \" + str(simdi.month))\n",
    "print(\"Yıl = \" + str(simdi.year))\n",
    "\n",
    "print(\"Saat = \" + str(simdi.hour))\n",
    "print(\"Dakika = \" + str(simdi.minute))\n",
    "print(\"Saniye = \" + str(simdi.second))\n",
    "print(\"Mikrosaniye = \" + str(simdi.microsecond))\n",
    "\n",
    "print(tarih.datetime.ctime(simdi))\n",
    "print(tarih.datetime.strftime(simdi, '%x'))\n",
    "print(tarih.datetime.strftime(simdi, '%d %B %Y %A'))"
   ]
  },
  {
   "cell_type": "markdown",
   "metadata": {},
   "source": [
    "srtftime İle Tarih Formatı\n",
    "--\n",
    ">- %a : Hafta gününün kısaltılmış hali\n",
    ">- %A : Hafta gününün tam hali\n",
    ">- %b : Ayın kısaltılmış hali\n",
    ">- %B : Ayın tam hali\n",
    ">- %c : Tam tarih ve zaman bilgisi\n",
    ">- %d : Günün sayısal değeri\n",
    ">- %j : Belirli bir tarihin yılın kaçıncı gününe denk geldiği\n",
    ">- %m : Ayın sayısal değeri\n",
    ">- %U : Belirli tarihin yılın kaçıncı haftasına denk geldiği\n",
    ">- %y : Yılın son iki rakamı\n",
    ">- %x : Tam tarih\n",
    ">- %X : Tam saat bilgisi"
   ]
  },
  {
   "cell_type": "markdown",
   "metadata": {},
   "source": [
    "Modül Nedir?\n",
    "--\n",
    "Modüller bazı işlevleri kolaylıkla yerine getirmemizi sağlayan bir takım fonksiyonları ve nitelikleri içinde barındıran araçlardır.\n",
    ">\n",
    "Örn:\n",
    "datetime modülünün year değişkeni gibi. Bize şimdiki tarihin yıl bilgisini verir.\n",
    "datetime modülünün \"now()\" fonksiyonu ise şimdiki zamanı verir. Fonksiyonlar mutlaka çalıştırılırken ya da kullanılırken \"() normal parantez\" ile belirtilmelidir.\n",
    ">\n",
    "Modül programa eklenirken \"import\" komutu kullanılır.\n",
    "import datetime"
   ]
  }
 ],
 "metadata": {
  "kernelspec": {
   "display_name": "Python 3.10.8 64-bit",
   "language": "python",
   "name": "python3"
  },
  "language_info": {
   "codemirror_mode": {
    "name": "ipython",
    "version": 3
   },
   "file_extension": ".py",
   "mimetype": "text/x-python",
   "name": "python",
   "nbconvert_exporter": "python",
   "pygments_lexer": "ipython3",
   "version": "3.10.8"
  },
  "orig_nbformat": 4,
  "vscode": {
   "interpreter": {
    "hash": "81b02ec2e8252d4d27e8f5a7dd14df3a24d0b70297d5edae178d6b04e5ee4e4b"
   }
  }
 },
 "nbformat": 4,
 "nbformat_minor": 2
}
