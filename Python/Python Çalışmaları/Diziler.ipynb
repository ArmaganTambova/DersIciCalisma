{
 "cells": [
  {
   "cell_type": "markdown",
   "metadata": {},
   "source": [
    "Diziler (Arrays)\n",
    "--\n",
    "Diziler oldukça yararlı ve fonksiyonel bir veri tutma yöntemidir.\n",
    "Kullanım amaçları AYNI TÜRDEN verilerin bir arada belirli bir sıra numarası ile tutmaktır.\n",
    "Veriler dizi içerisine atılıp diziden geri çağırılabilirler.\n",
    "Dizi içerisindeki sıra numarasına \"index numarası\" ismi verilir.\n",
    "\n",
    ">- Dizi index numaraları sıfırdan başlar.\n",
    "\n",
    "Dizi içerisine eklenmiş elemanların sayısını len(.....) komutu ile alabiliyoruz."
   ]
  },
  {
   "cell_type": "code",
   "execution_count": null,
   "metadata": {},
   "outputs": [],
   "source": [
    "isimler = [\"Fadlihan\", \"Onur\", \"Yusuf\", \"Alperen\", \"Alperen Efe\", \"Poyraz\", \"Erdem\", \"Zümra\", \"Yüksel\", \"Burhan Kaan\", \"Cemrenaz\", \"Deniz\", \"Armağan\", \"İbrahim\", \"Ceyhun\", \"Ekrem İbrahim\", \"Ali Ata\", \"Nisa Nur\"]\n",
    "print(len(isimler))\n",
    "print(isimler[4])\n",
    "print(\"9/D Sınıf'ı Öğrencileri\")\n",
    "print(isimler)"
   ]
  },
  {
   "cell_type": "markdown",
   "metadata": {},
   "source": [
    ">- Dizi Temel Fonksiyonları"
   ]
  },
  {
   "cell_type": "code",
   "execution_count": null,
   "metadata": {},
   "outputs": [],
   "source": [
    "isimler = [\"Fadlihan\", \"Onur\", \"Yusuf\", \"Alperen\", \"Alperen Efe\", \"Poyraz\", \"Erdem\", \"Zümra\", \"Yüksel\", \"Burhan Kaan\", \"Cemrenaz\", \"Deniz\", \"Armağan\", \"İbrahim\", \"Ceyhun\", \"Ekrem İbrahim\", \"Ali Ata\", \"Nisa Nur\"]\n",
    "\n",
    "print(\"Diziye Eleman Eklendi\")\n",
    "isimler.append(\"Alp\")\n",
    "\n",
    "print(\"Araya Eleman Ekleme\")\n",
    "isimler.insert(2, \"Süleyman\")\n",
    "\n",
    "print(\"Diziden Son Eleman Çıkartıldı\")\n",
    "isimler.pop()\n",
    "\n",
    "print(\"Diziden Belirli İndexteki Veriyi Çıkartma\")\n",
    "isimler.pop(3)\n",
    "\n",
    "print(\"Diziden Belirli Bir Veriyi Silme\")\n",
    "isimler.remove(\"Süleyman\")\n",
    "\n",
    "print(\"Dizi Elemanları Sıralandı A-Z\")\n",
    "isimler.sort()\n",
    "\n",
    "print(\"Dizi Elemanları Sıralandı Z-A\")\n",
    "isimler.sort(reverse=True)\n",
    "\n",
    "print(isimler)"
   ]
  },
  {
   "cell_type": "markdown",
   "metadata": {},
   "source": [
    ">- Dizi Elemanlarını Yazdırma"
   ]
  },
  {
   "cell_type": "code",
   "execution_count": null,
   "metadata": {},
   "outputs": [],
   "source": [
    "isimler = [\"Fadlihan\", \"Onur\", \"Yusuf\", \"Alperen\", \"Alperen Efe\", \"Poyraz\", \"Erdem\", \"Zümra\", \"Yüksel\", \"Burhan Kaan\", \"Cemrenaz\", \"Deniz\", \"Armağan\", \"İbrahim\", \"Ceyhun\", \"Ekrem İbrahim\", \"Ali Ata\", \"Nisa Nur\"]\n",
    "isimler.insert(0, \"Alp\")\n",
    "\n",
    "sayac = 0\n",
    "while sayac < len(isimler):\n",
    "    print(isimler[sayac])\n",
    "    sayac += 1"
   ]
  },
  {
   "cell_type": "code",
   "execution_count": null,
   "metadata": {},
   "outputs": [],
   "source": [
    "isimler = [\"Fadlihan\", \"Onur\", \"Yusuf\", \"Alperen\", \"Alperen Efe\", \"Poyraz\", \"Erdem\", \"Zümra\", \"Yüksel\", \"Burhan Kaan\", \"Cemrenaz\", \"Deniz\", \"Armağan\", \"İbrahim\", \"Ceyhun\", \"Ekrem İbrahim\", \"Ali Ata\", \"Nisa Nur\"]\n",
    "\n",
    "for ogrenci in isimler:\n",
    "    print(ogrenci)"
   ]
  },
  {
   "cell_type": "code",
   "execution_count": null,
   "metadata": {},
   "outputs": [],
   "source": [
    "isimler = [\"Fadlihan\", \"Onur\", \"Yusuf\", \"Alperen\", \"Alperen Efe\", \"Poyraz\", \"Erdem\", \"Zümra\", \"Yüksel\", \"Burhan Kaan\", \"Cemrenaz\", \"Deniz\", \"Armağan\", \"İbrahim\", \"Ceyhun\", \"Ekrem İbrahim\", \"Ali Ata\", \"Nisa Nur\"]\n",
    "deger = 1\n",
    "sayac = 0\n",
    "while sayac < len(isimler):\n",
    "    print(str(deger) + \". \" + isimler[sayac])\n",
    "    sayac += 1\n",
    "    deger += 1"
   ]
  },
  {
   "cell_type": "code",
   "execution_count": null,
   "metadata": {},
   "outputs": [],
   "source": [
    "# Dizide Bulunan Sayıları Yazdırma, Büyükten Küçüğe\n",
    "sayilar = [2, 6, 11, 85, -15, 4, 20, -5, 158, 74, 12, 45, 21, 75]\n",
    "print(\"Büyükten Küçüğe\")\n",
    "sayilar.sort(reverse=True)\n",
    "for sayi in sayilar:\n",
    "    print(sayi)"
   ]
  },
  {
   "cell_type": "code",
   "execution_count": null,
   "metadata": {},
   "outputs": [],
   "source": [
    "# Dizide Bulunan Sıfırdan Büyük Sayıları Yazdırma, Büyükten Küçüğe\n",
    "sayilar = [2, 6, 11, 85, -15, 4, 20, -5, 158, 74, 12, 45, 21, 75]\n",
    "sayilar.sort(reverse=True)\n",
    "for sayi in sayilar:\n",
    "    if sayi >= 0:\n",
    "        print(sayi)"
   ]
  },
  {
   "cell_type": "code",
   "execution_count": null,
   "metadata": {},
   "outputs": [],
   "source": [
    "# Dizide Bulunan ve 2'ye Tam Bölünen Sayıları Küçükten Büyüğe Sıralama\n",
    "sayilar = [2, 6, 11, 85, -15, 4, 20, -5, 158, 74, 12, 45, 21, 75]\n",
    "sayilar.sort()\n",
    "for sayi in sayilar:\n",
    "    if sayi % 2 == 0:\n",
    "        print(sayi)"
   ]
  },
  {
   "cell_type": "code",
   "execution_count": null,
   "metadata": {},
   "outputs": [],
   "source": [
    "# Dizi İçerisinde Bulunan Sayıların Ortalamasını Alma\n",
    "sayilar = [2, 6, 11, 85, -15, 4, 20, -5, 158, 74, 12, 45, 21, 75]\n",
    "toplam = 0\n",
    "ortalama = 0\n",
    "for sayi in sayilar:\n",
    "    toplam = toplam + sayi\n",
    "ortalama = toplam / len(sayilar)\n",
    "print(\"Ortalama = \" + str(ortalama))"
   ]
  },
  {
   "cell_type": "code",
   "execution_count": null,
   "metadata": {},
   "outputs": [],
   "source": [
    "# Dizi İçerisinde Bulunan Pozitif Sayıların Ortalamasını Alma\n",
    "sayilar = [2, 6, 11, 85, -15, 4, 20, -5, 158, 74, 12, 45, 21, 75]\n",
    "toplam = 0\n",
    "ortalama = 0\n",
    "deger = 0\n",
    "for sayi in sayilar:\n",
    "    if sayi >= 0:\n",
    "        toplam += sayi\n",
    "        deger += 1\n",
    "ortalama = toplam / deger\n",
    "print(\"Pozitif Sayıların Ortalaması = \" + str(ortalama))"
   ]
  },
  {
   "cell_type": "code",
   "execution_count": null,
   "metadata": {},
   "outputs": [],
   "source": [
    "# Veri Alıp Alınan Veriyi Dizi İçerisine Ekledikten Sonra Yazdırma\n",
    "isimler = []\n",
    "secenek = \"Q\"\n",
    "while secenek != \"q\":\n",
    "    isim = input(\"Lütfen Bir İsim Giriniz.\")\n",
    "    isimler.append(isim)\n",
    "    secenek = input(\"Devam Etmek İstemiyorsanız q Tuşuna Basınız. Devam Etmek İçin Enter.\")\n",
    "isimler.sort()\n",
    "for ad in isimler:\n",
    "    print(ad)"
   ]
  },
  {
   "cell_type": "code",
   "execution_count": null,
   "metadata": {},
   "outputs": [],
   "source": [
    "isimler = []\n",
    "yillar = []\n",
    "secenek = \"Q\"\n",
    "while secenek != \"q\":\n",
    "    isim = input(\"Lütfen Adınızı Ve Soyadınızı Giriniz.\")\n",
    "    yil = int(input( isim + \" Doğum Yılını Giriniz.\"))\n",
    "    isimler.append(isim)\n",
    "    yillar.append(yil)\n",
    "    secenek = input(\"Öğrenci Kaydına Devam Etmek İstemiyorsanız q Tuşuna Basınız. Devam Etmek İçin Enter.\")\n",
    "sayac = 0\n",
    "while sayac < len(isimler):\n",
    "    print(isimler[sayac] + \": \" + \"Yaş = \" + str(2022 - yillar[sayac]))\n",
    "    sayac += 1"
   ]
  },
  {
   "cell_type": "code",
   "execution_count": null,
   "metadata": {},
   "outputs": [],
   "source": [
    "# Girilen Kullanıcı Adının Sahibinin Adını Yazdırma\n",
    "isimler = [\"Fadlihan Ayhan\", \"Yüksel Girgin\", \"Muhammet Yusuf Uşun\"]\n",
    "kullaniciAdlari = [\"f.ayhan\", \"y.girgin\", \"m.uşun\"]\n",
    "veri = input(\"Lütfen Kullanıcı Adınızı Giriniz.\")\n",
    "index = -1\n",
    "sayac = 0\n",
    "while sayac < len(kullaniciAdlari):\n",
    "    if kullaniciAdlari[sayac] == veri:\n",
    "        index = sayac\n",
    "    sayac += 1\n",
    "if index != -1:\n",
    "    print(\"Merhaba \" + isimler[index])\n",
    "else:\n",
    "    print(\"Kullanıcı Bulunamadı\")"
   ]
  },
  {
   "cell_type": "code",
   "execution_count": null,
   "metadata": {},
   "outputs": [],
   "source": [
    "# Sign In Sistemi\n",
    "isimler = [\"Fadlihan Ayhan\", \"Yüksel Girgin\", \"Muhammet Yusuf Uşun\"]\n",
    "kullaniciAdlari = [\"f.ayhan\", \"y.girgin\", \"m.uşun\"]\n",
    "sifreler = [\"1234\", \"1235\", \"1236\"]\n",
    "username = input(\"Lütfen Kullanıcı Adınızı Giriniz.\")\n",
    "i = 0\n",
    "index = -1\n",
    "while i < len(kullaniciAdlari):\n",
    "    if kullaniciAdlari[i] == username:\n",
    "        index = i\n",
    "    i += 1\n",
    "if index == -1:\n",
    "    print(\"Kullanıcı Bulunamadı\")\n",
    "else:\n",
    "    password = input(\"Lütfen Şifrenizi Giriniz.\")\n",
    "    if sifreler[index] == password:\n",
    "        print(\"Merhaba \" + isimler[index])\n",
    "    else:\n",
    "        print(\"Şifre Eşlemedi\")"
   ]
  },
  {
   "cell_type": "code",
   "execution_count": null,
   "metadata": {},
   "outputs": [],
   "source": [
    "# Dizideki Elemanları Sıralama\n",
    "urunler = [\"Domates\", \"Biber\", \"Soğan\", \"Ekmek\", \"Süt\", \"Doritos\", \"Kalem\"]\n",
    "fiyatlar = [12.9, 15.8, 15, 4, 18.25, 18, 25]\n",
    "sayac = 0\n",
    "while sayac < len(urunler):\n",
    "    print(str(sayac + 1) + \") \" + urunler[sayac] + \" \" + str(fiyatlar[sayac]) + \" TL\")\n",
    "    sayac += 1"
   ]
  },
  {
   "cell_type": "code",
   "execution_count": null,
   "metadata": {},
   "outputs": [],
   "source": [
    "# Satın Alınmak İstenen Ürünler ve Sonucunda Ödenmesi Gereken Mitarı Yazdırma\n",
    "urunler = [\"Domates\", \"Biber\", \"Soğan\", \"Ekmek\", \"Süt\", \"Doritos\", \"Kalem\"]\n",
    "fiyatlar = [12.9, 15.8, 15, 4, 18.25, 18, 25]\n",
    "satinaldiklarin = []\n",
    "sayac = 0\n",
    "index = -1\n",
    "sayac1 = 0\n",
    "toplam = 0\n",
    "s = \"Q\"\n",
    "for urun in urunler:\n",
    "    print(str(sayac1 + 1) + \") \" + urun + \" \" + str(fiyatlar[sayac1]) + \" TL\")\n",
    "    sayac1 += 1\n",
    "while s != \"q\":\n",
    "    if sayac < len(urunler):\n",
    "        veri = int(input(\"Lütfen Satın Almak İstediğiniz Ürünün Numarasını Giriniz.\"))\n",
    "        index = veri - 1\n",
    "        toplam += fiyatlar[index]\n",
    "        satinaldiklarin.append(urunler[index])\n",
    "        s = input(\"Ürün Eklemeye Devam Etmek İstiyorsanız Enter, İstemiyorsanız q Tuşuna Basınız.\")\n",
    "print(\" \")\n",
    "print(\"Ödemeniz Gereken Tutar = \" + str(toplam) + \" TL\")\n",
    "print(\"Satın Aldığınız Ürünler :\")\n",
    "for satin in satinaldiklarin:\n",
    "    print(satin)"
   ]
  },
  {
   "cell_type": "code",
   "execution_count": null,
   "metadata": {},
   "outputs": [],
   "source": [
    "# 3 Seçeneğe Göre Arama Yapma\n",
    "isimler = [\"Alp\",\"Seray\",\"Nida\",\"Ahmet\",\"Cemile\",\"Emre\",\"Nazik\",\"Özgül\",\"İlknur\",\"Ahsen Büşra\",\"Ferhat\",\"Büşra\",\"Nihal\",\"Zeynep Ece\",\"İlker\",\"Hülya\",\"Selda\",\"Özcan\",\"Rahime\",\"Emel\",\"Şerife\",\"Mert\",\"Duygu şahin\",\"Yasemin\",\"Fatma Nur\",\"rıdvan\",\"Esin\",\"Fatma Gül\",\"Rukiye\",\"Urkiye\",\"Muharrem\"]\n",
    "soyisimler = [\"Sarıkışla\",\"Kocakaya\",\"Yaman\",\"Kılıç\",\"Özçelik\",\"Yavaş\",\"Dumanoğlu\",\"Erden\",\"Köseler\",\"Türkmen\",\"Çalıkuşu\",\"Elban\",\"Yücel\",\"Kapar\",\"Özşakacı\",\"Akşit\",\"Elmakasta\",\"Gürgan\",\"Çıkırıklıoğlu\",\"Özdemir\",\"Çam\",\"Ön\",\"Geçici\",\"Erdoğan\",\"Singil\",\"Oktay\",\"Özgür\",\"Akkoyun\",\"Gültekin\",\"Nal\",\"Şafak\"]\n",
    "dersler = [\"YAZILIM\",\"FİZİK\",\"MATEMATİK\",\"MATEMATİK\",\"EDEBİYAT\",\"EDEBİYAT\",\"EDEBİYAT\",\"COĞRAFYA\",\"KİMYA\",\"ALMANCA\",\"İNGİLİZCE\",\"İNGİLİZCE\",\"İDARE\",\"İDARE\",\"BEDEN\",\"SAĞLIK\",\"SAĞLIK\",\"SAĞLIK\",\"SAĞLIK\",\"SAĞLIK\",\"SAĞLIK\",\"HAVACILIK\",\"BİYİLOJİ\",\"TARİH\",\"DİN\",\"GÖRSEL\",\"PERSONEL\",\"PERSONEL\",\"PERSONEL\",\"PERSONEL\",\"PERSONEL\"]\n",
    "\n",
    "\n",
    "print(\"Merhaba Matrix Okulları Akademik Personel Listesi\")\n",
    "print(\"1) İsme Göre Ara\")\n",
    "print(\"2) Soyisme Göre Ara\")\n",
    "print(\"3) Bölüme Göre Ara\")\n",
    "secim = input(\"Lütfen Seçim Yapınız.\")\n",
    "if secim == \"1\":\n",
    "    isim = input(\"Lütfen Personel Adını Yazınız.\")\n",
    "    for eleman in isimler:\n",
    "        if(eleman == isim):\n",
    "            index = isimler.index(eleman)\n",
    "            print(isimler[index] + \" \" + soyisimler[index] + \" \" + dersler[index])\n",
    "if secim == \"2\":\n",
    "    soyisim = input(\"Lütfen Personel Soyadını Yazınız.\")\n",
    "    for eleman in soyisimler:\n",
    "        if(eleman == soyisim):\n",
    "            index = soyisimler.index(soyisim)\n",
    "            print(isimler[index] + \" \" + soyisimler[index] + \" \" + dersler[index])\n",
    "if secim == \"3\":\n",
    "    ders = input(\"Lütfen Personel Dersini Giriniz.\")\n",
    "    sayac = 0\n",
    "    while sayac < len(dersler):\n",
    "        if(ders == dersler[sayac]):\n",
    "           print(isimler[sayac] + \" \" + soyisimler[sayac] + \" \" + dersler[sayac])\n",
    "        sayac += 1"
   ]
  }
 ],
 "metadata": {
  "kernelspec": {
   "display_name": "Python 3.10.8 64-bit",
   "language": "python",
   "name": "python3"
  },
  "language_info": {
   "codemirror_mode": {
    "name": "ipython",
    "version": 3
   },
   "file_extension": ".py",
   "mimetype": "text/x-python",
   "name": "python",
   "nbconvert_exporter": "python",
   "pygments_lexer": "ipython3",
   "version": "3.10.8"
  },
  "orig_nbformat": 4,
  "vscode": {
   "interpreter": {
    "hash": "81b02ec2e8252d4d27e8f5a7dd14df3a24d0b70297d5edae178d6b04e5ee4e4b"
   }
  }
 },
 "nbformat": 4,
 "nbformat_minor": 2
}
