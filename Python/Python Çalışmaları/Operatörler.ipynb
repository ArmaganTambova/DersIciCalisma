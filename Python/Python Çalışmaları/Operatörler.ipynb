{
 "cells": [
  {
   "cell_type": "code",
   "execution_count": null,
   "metadata": {},
   "outputs": [],
   "source": [
    "# İki Sayının Toplamı\n",
    "sayi1 = 60\n",
    "sayi2 = 25\n",
    "cevap = sayi1 + sayi2\n",
    "print(\"Cevap = \" + str(cevap))"
   ]
  },
  {
   "cell_type": "code",
   "execution_count": null,
   "metadata": {},
   "outputs": [],
   "source": [
    "# İki Sayının Toplamı Devam\n",
    "sayi1 = int(input(\"Lütfen Bir Sayı Griniz.\"))\n",
    "sayi2 = int(input(\"Lütfen Diğer Sayıyı Giriniz.\"))\n",
    "cevap = sayi1 + sayi2\n",
    "print(\"Sonucunuz = \" + str(cevap))"
   ]
  },
  {
   "cell_type": "code",
   "execution_count": null,
   "metadata": {},
   "outputs": [],
   "source": [
    "# İki Sayının Farkı\n",
    "sayi1 = 25\n",
    "sayi2 = 10\n",
    "cevap = sayi1 - sayi2\n",
    "print(\"Sonucunuz = \" + str(cevap))"
   ]
  },
  {
   "cell_type": "code",
   "execution_count": null,
   "metadata": {},
   "outputs": [],
   "source": [
    "# Girilen İki Sayıdan Büyük Olandon Küçük Olanı Çıkartma (  İki Sayının Farkı Devam )\n",
    "sayi1 = int(input(\"Lütfen İlk Sayıyı Giriniz.\"))\n",
    "sayi2 = int(input(\"Lütfen İkinci Sayıyı Giriniz.\"))\n",
    "if sayi1 > sayi2:\n",
    "    cevap = sayi1 - sayi2\n",
    "    print(\"Sonucunuz = \" + str(cevap))\n",
    "else:\n",
    "    cevap = sayi2 - sayi1\n",
    "    print(\"Sonucunuz = \" + str(cevap))"
   ]
  },
  {
   "cell_type": "code",
   "execution_count": null,
   "metadata": {},
   "outputs": [],
   "source": [
    "# İki Sayının Çarpımı\n",
    "sayi1 = 15\n",
    "sayi2 = 26\n",
    "cevap = sayi1 * sayi2\n",
    "print(\"Sonucunuz = \" + str(cevap))"
   ]
  },
  {
   "cell_type": "code",
   "execution_count": null,
   "metadata": {},
   "outputs": [],
   "source": [
    "# Girilen İki Sayının Çarpımı ( İki Sayının Çarpımı Devam )\n",
    "sayi1 = int(input(\"Lütfen İlk Sayıyı Giriniz.\"))\n",
    "sayi2 = int(input(\"Lütfen İkinci Sayıyı Giriniz.\"))\n",
    "cevap = sayi1 * sayi2\n",
    "print(\"Sonucunuz = \" + str(cevap))"
   ]
  },
  {
   "cell_type": "code",
   "execution_count": null,
   "metadata": {},
   "outputs": [],
   "source": [
    "# İki Sayının Bölümü\n",
    "sayi1 = 25\n",
    "sayi2 = 12\n",
    "cevap = sayi1 / sayi2\n",
    "print(\"Sonucunuz = \" + str(cevap))"
   ]
  },
  {
   "cell_type": "code",
   "execution_count": null,
   "metadata": {},
   "outputs": [],
   "source": [
    "# Girilen İki Sayının Büyük Olanından Küçük Olanı Bölme ( İki Sayının Bölümü Devam )\n",
    "sayi1 = int(input(\"Lütfen İlk Sayıyı Giriniz.\"))\n",
    "sayi2 = int(input(\"Lütfen İkinci Sayıyı Giriniz.\"))\n",
    "if sayi1 > sayi2:\n",
    "    cevap = sayi1 / sayi2\n",
    "    print(\"Sonucunuz = \" + str(cevap))\n",
    "else:\n",
    "    cevap = sayi2 / sayi1\n",
    "    print(\"Sonucunuz = \" + str(cevap))"
   ]
  }
 ],
 "metadata": {
  "kernelspec": {
   "display_name": "Python 3.10.8 64-bit",
   "language": "python",
   "name": "python3"
  },
  "language_info": {
   "codemirror_mode": {
    "name": "ipython",
    "version": 3
   },
   "file_extension": ".py",
   "mimetype": "text/x-python",
   "name": "python",
   "nbconvert_exporter": "python",
   "pygments_lexer": "ipython3",
   "version": "3.10.8"
  },
  "orig_nbformat": 4,
  "vscode": {
   "interpreter": {
    "hash": "81b02ec2e8252d4d27e8f5a7dd14df3a24d0b70297d5edae178d6b04e5ee4e4b"
   }
  }
 },
 "nbformat": 4,
 "nbformat_minor": 2
}
