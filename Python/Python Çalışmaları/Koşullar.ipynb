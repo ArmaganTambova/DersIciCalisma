{
 "cells": [
  {
   "cell_type": "markdown",
   "metadata": {},
   "source": [
    "Koşullar\n",
    "--\n",
    "Koşullar programlamada akış kontrolü için kullanılan yapılardır.\n",
    "Eğer şartın sağlanıyorsa yapılacak olanlar ayrı, sağlanmıyorsa yapılacak olanları ayrı belirtebiliriz.\n",
    "Geliştirdiğimiz kodda akış kontrolü için kullanacağım koşul mutlaka \"boolean\" türünde veri döndürmelidir."
   ]
  },
  {
   "cell_type": "code",
   "execution_count": null,
   "metadata": {},
   "outputs": [],
   "source": [
    "sayi = 15\n",
    "if sayi > 10:\n",
    "    print(\"Sayı 10'dan Büyük\")"
   ]
  },
  {
   "cell_type": "markdown",
   "metadata": {},
   "source": [
    "sayi = 15\n",
    "---> if sayi > 10:  \n",
    "        if'ten sonra yazılacak olan koşul mutlaka true veya false değer döndürebilir.\n",
    "---> print(\"Sayı 10'dan büyük\")  \n",
    "        Yukarıdaki koşul true döndürür ise bu alanı çalıştırır, false döndürür ise atlar\n",
    "        ---> indent, girinti koşul ifadelerinde if veya else kullanımında koşulların yapması istenen işlemleri girinti içerisine yazmalıyız."
   ]
  },
  {
   "cell_type": "markdown",
   "metadata": {},
   "source": [
    "İf ve Else Kullanımı\n",
    "--\n",
    "if ile belirtilen koşul true getirir ise if, false getirir ise else çalışır.\n",
    "if çalışır ise else çalışmaz"
   ]
  },
  {
   "cell_type": "code",
   "execution_count": null,
   "metadata": {},
   "outputs": [],
   "source": [
    "sayi = int(input(\"Lütfen Sayı Giriniz.\"))\n",
    "if sayi >= 10:\n",
    "    print(\"Sayı 10'dan Büyüktür.\")\n",
    "else:\n",
    "    print(\"Sayınız 10'dan Küçük.\")"
   ]
  },
  {
   "cell_type": "code",
   "execution_count": null,
   "metadata": {},
   "outputs": [],
   "source": [
    "# Öğrencinin Adını, Soyadını, 1. Sınav Notunu ve 2. Sınav Notunu Alınız. Not Ortalamasını Hesaplayıp Ortalama 50'den Büyük İse Geçtiniz Değilse Kaldınız Yazdırın.\n",
    "isim = input(\"Lütfen Adınızı Giriniz.\")\n",
    "soyad = input(\"Lütfen Soyadınızı Giriniz.\")\n",
    "not1 = int(input(\"Lütfen İlk Sınav Notunuzu Giriniz.\"))\n",
    "not2 = int(input(\"Lütfen İkinci Sınav Notunuzu Giriniz.\"))\n",
    "ortalama = (not1 + not2) / 2\n",
    "if ortalama >= 50:\n",
    "    print(\"Sayın \" + isim + \" \" + soyad)\n",
    "    print(\"Sınav Ortalamanız \" + str(ortalama))\n",
    "    print(\"Tebrikler GEÇTİNİZ!\")\n",
    "else:\n",
    "    print(\"Sayın \" + isim + \" \" + soyad)\n",
    "    print(\"Sınav Ortalamanız \" + str(ortalama))\n",
    "    print(\"Kaldınız.\")"
   ]
  },
  {
   "cell_type": "code",
   "execution_count": null,
   "metadata": {},
   "outputs": [],
   "source": [
    "# Kullanıcı Giriş Uygulaması: > Kullanıcıdan Kullanıcı Adı İste > Kullanıcıdan Şifre İsteyiniz > Kullanıcı Adı = admin Şifre = 1234 İse Hoşgeldin admin > Değil İse Hatalı Kullanıcı Adı Ve Şifre Girildi Yazınız.\n",
    "username = \"admin\"\n",
    "password = \"1234\"\n",
    "kullaniciadı = input(\"Lütfen Kullanıcı Adını Giriniz.\")\n",
    "sifre = input(\"Lütfen Şifreyi Giriniz.\")\n",
    "if kullaniciadı == username and sifre == password:\n",
    "    print(\"Merhaba Admin\")\n",
    "else:\n",
    "    print(\"Kullanıcı Adı Veya Şifre Hatalı\")"
   ]
  },
  {
   "cell_type": "code",
   "execution_count": null,
   "metadata": {},
   "outputs": [],
   "source": [
    "# Kullanıcıdan Olınan Dğer Pozitif İse Pozitif, Negatif İse Negatif Yazdır.\n",
    "sayi = int(input(\"Lütfen Bir Sayı Giriniz.\"))\n",
    "if sayi >= 0:\n",
    "    print(\"Sayınız Pozitif.\")\n",
    "else:\n",
    "    print(\"Sayınız Negatif.\")"
   ]
  }
 ],
 "metadata": {
  "kernelspec": {
   "display_name": "Python 3.10.8 64-bit",
   "language": "python",
   "name": "python3"
  },
  "language_info": {
   "codemirror_mode": {
    "name": "ipython",
    "version": 3
   },
   "file_extension": ".py",
   "mimetype": "text/x-python",
   "name": "python",
   "nbconvert_exporter": "python",
   "pygments_lexer": "ipython3",
   "version": "3.10.8"
  },
  "orig_nbformat": 4,
  "vscode": {
   "interpreter": {
    "hash": "81b02ec2e8252d4d27e8f5a7dd14df3a24d0b70297d5edae178d6b04e5ee4e4b"
   }
  }
 },
 "nbformat": 4,
 "nbformat_minor": 2
}
