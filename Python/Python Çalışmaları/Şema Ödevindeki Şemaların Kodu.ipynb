{
 "cells": [
  {
   "cell_type": "code",
   "execution_count": null,
   "metadata": {},
   "outputs": [],
   "source": [
    "# Girilen İki Sayının Çarpımı\n",
    "sayi1 = int(input(\"Lütfen Bir Sayı Giriniz.\"))\n",
    "sayi2 = int(input(\"Lütfen Bir Sayı Giriniz.\"))\n",
    "cevap = sayi1 * sayi2\n",
    "print(\"Sayılarınızın çarpımı = \" + str(cevap))\n"
   ]
  },
  {
   "cell_type": "code",
   "execution_count": null,
   "metadata": {},
   "outputs": [],
   "source": [
    "# Girilen Sayının Karesi\n",
    "sayi1 = int(input(\"Lütfen Karesini Almak İstediğiniz Sayıyı Giriniz.\"))\n",
    "cevap = sayi1 * sayi1\n",
    "print(\"Sayınızın Karesi = \" + str(cevap))"
   ]
  },
  {
   "cell_type": "code",
   "execution_count": null,
   "metadata": {},
   "outputs": [],
   "source": [
    "# Sınavda Alınan İki Notun Ortalaması\n",
    "sayi1 = int(input(\"Lütfen İlk Sınav Notunuzu Giriniz.\"))\n",
    "sayi2 = int(input(\"Lütfen İkinci Sınav Notunuzu Giriniz.\"))\n",
    "toplam = sayi1 + sayi2\n",
    "sonuc = toplam / 2\n",
    "if sonuc > 100:\n",
    "    print(\"Ortalamanız 100'den büyük olamaz.\")\n",
    "else:\n",
    "    print(\"Ortalamanız = \" + str(sonuc))"
   ]
  },
  {
   "cell_type": "code",
   "execution_count": null,
   "metadata": {},
   "outputs": [],
   "source": [
    "# Girilen İki Sayıdan Büyük Olanından Küçük Olanı Çıkartma\n",
    "sayi1 = int(input(\"Lütfen İlk Sayıyı Giriniz.\"))\n",
    "sayi2 = int(input(\"Lütfen İkinci Sayıyı Giriniz.\"))\n",
    "if sayi1 > sayi2:\n",
    "    cevap = sayi1 - sayi2\n",
    "else:\n",
    "    cevap = sayi2 - sayi1\n",
    "print(\"Sonucunuz = \" + str(cevap))"
   ]
  },
  {
   "cell_type": "markdown",
   "metadata": {},
   "source": [
    "Şema Ödevinde Bulunan Algoritmaların Koda Dökülmüş Hali"
   ]
  }
 ],
 "metadata": {
  "kernelspec": {
   "display_name": "Python 3.10.8 64-bit",
   "language": "python",
   "name": "python3"
  },
  "language_info": {
   "codemirror_mode": {
    "name": "ipython",
    "version": 3
   },
   "file_extension": ".py",
   "mimetype": "text/x-python",
   "name": "python",
   "nbconvert_exporter": "python",
   "pygments_lexer": "ipython3",
   "version": "3.10.8"
  },
  "orig_nbformat": 4,
  "vscode": {
   "interpreter": {
    "hash": "81b02ec2e8252d4d27e8f5a7dd14df3a24d0b70297d5edae178d6b04e5ee4e4b"
   }
  }
 },
 "nbformat": 4,
 "nbformat_minor": 2
}
