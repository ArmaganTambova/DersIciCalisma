{
 "cells": [
  {
   "cell_type": "code",
   "execution_count": null,
   "metadata": {},
   "outputs": [],
   "source": [
    "# True - False\n",
    "sayi = 20\n",
    "print(sayi > 10)"
   ]
  },
  {
   "cell_type": "code",
   "execution_count": null,
   "metadata": {},
   "outputs": [],
   "source": [
    "# Girilen İlk Sayının Girilen İkinci Sayıdan Büyük Olup Olmadığı\n",
    "sayi1 = int(input(\"Lütfen İlk Sayınızı Griniz.\"))\n",
    "sayi2 = int(input(\"İlk Sayınızın Büyüklüğünü Karşılaştırmak İstediğiniz Sayıyı Giriniz.\"))\n",
    "print(\"Sayınız Büyük İse (True) Değil İse (False) Yanıtını Alacaksınız = \" + str(sayi1 > sayi2))"
   ]
  },
  {
   "cell_type": "code",
   "execution_count": null,
   "metadata": {},
   "outputs": [],
   "source": [
    "# Sayının Pozitif Olup Olmadığını Kontrol Etme\n",
    "sayi = -5\n",
    "if sayi >= 0:\n",
    "    print(\"Sayı Pozitif\")\n",
    "else:\n",
    "    print(\"Sayı Negatif\")"
   ]
  },
  {
   "cell_type": "code",
   "execution_count": null,
   "metadata": {},
   "outputs": [],
   "source": [
    "# Girilen Sayının Pozitif Olup Olmadığını Kontrol Etme\n",
    "sayi = int(input(\"Bir Sayı Giriniz.\"))\n",
    "if sayi >= 0:\n",
    "    print(\"Sayı Pozitif\")\n",
    "else:\n",
    "    print(\"Sayı Negatif\")"
   ]
  },
  {
   "cell_type": "code",
   "execution_count": null,
   "metadata": {},
   "outputs": [],
   "source": [
    "# Sayı Değişkeni İçerisindeki İfade Çift Mi Değil Mi\n",
    "sayi = 8\n",
    "kalan = sayi % 2\n",
    "print(kalan == 0)"
   ]
  },
  {
   "cell_type": "code",
   "execution_count": null,
   "metadata": {},
   "outputs": [],
   "source": [
    "# Girilen Sayı Değişkeni İçerisindeki İfade Çift Mi Değil Mi\n",
    "sayi = int(input(\"Sayıyı Giriniz.\"))\n",
    "kalan = sayi % 2\n",
    "print(\"Sayınız Çift İse (True) Tek İse (False) Yanıtını Alacaksınız = \" + str(kalan == 0))"
   ]
  },
  {
   "cell_type": "code",
   "execution_count": null,
   "metadata": {},
   "outputs": [],
   "source": [
    "# Girilen Sayı Değişkeni İçerisindeki İfade Çift Mi Değil Mi ( 0 )\n",
    "sayi = int(input(\"Sayıyı Giriniz.\"))\n",
    "kalan = sayi % 2\n",
    "if kalan == 0:\n",
    "    print(\"Sayınız Çift\")\n",
    "else:\n",
    "    print(\"Sayınız Tek\")\n"
   ]
  }
 ],
 "metadata": {
  "kernelspec": {
   "display_name": "Python 3.10.8 64-bit",
   "language": "python",
   "name": "python3"
  },
  "language_info": {
   "codemirror_mode": {
    "name": "ipython",
    "version": 3
   },
   "file_extension": ".py",
   "mimetype": "text/x-python",
   "name": "python",
   "nbconvert_exporter": "python",
   "pygments_lexer": "ipython3",
   "version": "3.10.8"
  },
  "orig_nbformat": 4,
  "vscode": {
   "interpreter": {
    "hash": "81b02ec2e8252d4d27e8f5a7dd14df3a24d0b70297d5edae178d6b04e5ee4e4b"
   }
  }
 },
 "nbformat": 4,
 "nbformat_minor": 2
}
