{
 "cells": [
  {
   "cell_type": "markdown",
   "metadata": {},
   "source": [
    "Değişkenler ram üzerinde, içinde veri tutmak için kullanılan yapılardır.\n",
    "--\n",
    "Değişken isimleri;\n",
    "1- Türkçe karakter barındıramaz.\n",
    "2- Boşluk barındıramaz.\n",
    "3- ?, *, / gibi karakterleri kullanamaz.\n",
    "4- Başında nümerik karakter barındıramaz."
   ]
  },
  {
   "cell_type": "code",
   "execution_count": null,
   "metadata": {},
   "outputs": [],
   "source": [
    "isim = \"Armağan\"\n",
    "print(\"Merhaba \" + isim)"
   ]
  },
  {
   "cell_type": "code",
   "execution_count": null,
   "metadata": {},
   "outputs": [],
   "source": [
    "isim = \"Armağan\"\n",
    "soyad = \"Tambova\"\n",
    "print(\"Merhaba \" + isim + \" \"  + soyad)"
   ]
  },
  {
   "cell_type": "code",
   "execution_count": null,
   "metadata": {},
   "outputs": [],
   "source": [
    "isim = input(\"İsminizi Giriniz.\")\n",
    "soyad = input(\"Soyadınızı Giriniz.\")\n",
    "print(\"Merhaba \" + isim + \" \" + soyad)"
   ]
  }
 ],
 "metadata": {
  "kernelspec": {
   "display_name": "Python 3.10.8 64-bit",
   "language": "python",
   "name": "python3"
  },
  "language_info": {
   "codemirror_mode": {
    "name": "ipython",
    "version": 3
   },
   "file_extension": ".py",
   "mimetype": "text/x-python",
   "name": "python",
   "nbconvert_exporter": "python",
   "pygments_lexer": "ipython3",
   "version": "3.10.8"
  },
  "orig_nbformat": 4,
  "vscode": {
   "interpreter": {
    "hash": "81b02ec2e8252d4d27e8f5a7dd14df3a24d0b70297d5edae178d6b04e5ee4e4b"
   }
  }
 },
 "nbformat": 4,
 "nbformat_minor": 2
}
