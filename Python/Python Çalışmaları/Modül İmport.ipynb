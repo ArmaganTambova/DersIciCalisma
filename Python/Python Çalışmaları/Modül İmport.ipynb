{
 "cells": [
  {
   "cell_type": "code",
   "execution_count": null,
   "metadata": {},
   "outputs": [],
   "source": [
    "# datetime Modülü\n",
    "import datetime\n",
    "\n",
    "print(\"Şimdi ki zaman\")\n",
    "print(datetime.datetime.now())\n",
    "\n",
    "zaman = datetime.datetime.now()"
   ]
  },
  {
   "cell_type": "code",
   "execution_count": 4,
   "metadata": {},
   "outputs": [],
   "source": [
    "# Title Değiştirme\n",
    "import tkinter\n",
    "form = tkinter.Tk()\n",
    "form.title(\"Selam Sınıf\")\n",
    "form.mainloop()"
   ]
  },
  {
   "cell_type": "code",
   "execution_count": 1,
   "metadata": {},
   "outputs": [],
   "source": [
    "from tkinter import *\n",
    "pencere = Tk()\n",
    "pencere.title(\"Matrix Yazılım 9/D Sınıfı\")\n",
    "pencere.geometry(\"600x300\")\n",
    "uygulama = Frame(pencere)\n",
    "uygulama.grid()\n",
    "lblisim = Label(uygulama, text = \"Hello World\")\n",
    "lblisim.grid(padx=10, pady=10)\n",
    "pencere.mainloop()"
   ]
  },
  {
   "cell_type": "code",
   "execution_count": 2,
   "metadata": {},
   "outputs": [],
   "source": [
    "# Öğretmen ve Öğrencilerin Adını Listeleyen tkinter Kodu\n",
    "from tkinter import *\n",
    "form = Tk()\n",
    "form.title(\"Matrix Yazılım Öğrencileri\")\n",
    "form.geometry(\"1024x768\")\n",
    "uygulama = Frame(form)\n",
    "uygulama.grid()\n",
    "lblSinifAdı = Label(uygulama, text=\"MATRİX YAZILIM\")\n",
    "lblSinifAdı.config(font=('Calibri' ,26))\n",
    "lblSinifAdı.grid(padx=50, pady=0)\n",
    "\n",
    "\n",
    "lblisimHoca = Label (uygulama, text= \"Öğretmen = Alp Sarıkışla\")\n",
    "lblisimHoca.grid(padx=10, pady=10)\n",
    "lblisimHoca.config(font=('Calibri' ,15))\n",
    "lblisimHoca.grid(padx=0, pady=20)\n",
    "\n",
    "Ogrenciler = [\"Alperen Efe Düz\" , \"Nisanur Uçar\" , \"Cemrenaz Türkanoğlu\" , \"Ecrin Zümra Koparan\" , \"Burhan Kaan Aydıngör\", \"Armağan Tambova\"]\n",
    "liste = Listbox(width= 50, height=20)\n",
    "liste.place(x= 10, y= 150)\n",
    "for ogrenci in Ogrenciler:\n",
    "    liste.insert(END, ogrenci)\n",
    "uygulama.mainloop()"
   ]
  },
  {
   "cell_type": "markdown",
   "metadata": {},
   "source": [
    "Modül Nedir?\n",
    "--\n",
    "Modüller bazı işlevleri kolaylıkla yerine getirmemizi sağlayan bir takım fonksiyonları ve nitelikleri içinde barındıran araçlardır.\n",
    ">\n",
    "Örn:\n",
    "datetime modülünün year değişkeni gibi. Bize şimdiki tarihin yıl bilgisini verir.\n",
    "datetime modülünün \"now()\" fonksiyonu ise şimdiki zamanı verir. Fonksiyonlar mutlaka çalıştırılırken ya da kullanılırken \"() normal parantez\" ile belirtilmelidir.\n",
    ">\n",
    "Modül programa eklenirken \"import\" komutu kullanılır.\n",
    "import datetime\n",
    ">\n",
    "Modüller iki farklı başlık altında toplanabilir.\n",
    ">- 1) Kendi Hazırladığımız Modüller\n",
    ">- 2) Hazır Modüller\n",
    ">-   a) Standart Kütüphane Modülleri\n",
    ">-   b) Üçüncü Şahıs Modülleri\n",
    ">\n",
    "Python'ın standart kütüphane içerisinde hangi modüllerin olduğunu http://docs.python.org/library/ adresinden inceleyebilirsiniz.\n",
    ">\n",
    "Modüllerin İçeri Aktarılması\n",
    "--\n",
    "Python'da herhangi bir modülü kullanabilmek için öncelikle içeri aktarılması gerekir.\n",
    "İçeri aktarmak bir modül içerisindeki fonksiyon ve nitelikleri başka bir programda kullanabilmek demektir.\n",
    ">\n",
    "\"dir()\" fonksiyonu ile import edilen modülün içerisindeki tüm fonksiyon ve niteliklerin listesini alabiliriz.\n",
    ">\n",
    "Modül İçeri Aktarım Yöntemleri\n",
    "--\n",
    ">- 1) Standart Yöntem\n",
    ">- \"import datetime\"\n",
    ">- 2) Takma İsim Verme \"as\"\n",
    ">- \"import modülAdı as takmaİsim\"\n",
    ">- \"import datetime as tarih\"\n",
    ">- 3) Modülün Belirli Alanlarını İmport Etme\n",
    ">- \"from modülAdı import isim1.isim2\"\n",
    ">- 4) Modülün Belirli Alanlarını İmport Edip Takma İsim Verme\n",
    ">- \"from modülAdı import isim1.isim2 as takmaİsim\""
   ]
  },
  {
   "cell_type": "code",
   "execution_count": null,
   "metadata": {},
   "outputs": [],
   "source": [
    "# Modül İçerisindeki Verileri İnceleme\n",
    "import datetime\n",
    "\n",
    "dir(datetime)\n",
    "dir(datetime.datetime)"
   ]
  },
  {
   "cell_type": "code",
   "execution_count": null,
   "metadata": {},
   "outputs": [],
   "source": [
    "# Web Sayfasına Aktarma\n",
    "import webbrowser as web\n",
    "\n",
    "web.open('www.steampowered.com')"
   ]
  }
 ],
 "metadata": {
  "kernelspec": {
   "display_name": "Python 3.10.8 64-bit",
   "language": "python",
   "name": "python3"
  },
  "language_info": {
   "codemirror_mode": {
    "name": "ipython",
    "version": 3
   },
   "file_extension": ".py",
   "mimetype": "text/x-python",
   "name": "python",
   "nbconvert_exporter": "python",
   "pygments_lexer": "ipython3",
   "version": "3.10.8"
  },
  "orig_nbformat": 4,
  "vscode": {
   "interpreter": {
    "hash": "81b02ec2e8252d4d27e8f5a7dd14df3a24d0b70297d5edae178d6b04e5ee4e4b"
   }
  }
 },
 "nbformat": 4,
 "nbformat_minor": 2
}
