{
 "cells": [
  {
   "cell_type": "markdown",
   "metadata": {},
   "source": [
    "Fonksiyon Oluşturma\n",
    "--\n",
    "Fonksiyon; Program içerisinde ihtiyaç duyulduğunda kullanabilmek üzere tanımlanan küçük program parçasıdır."
   ]
  },
  {
   "cell_type": "code",
   "execution_count": null,
   "metadata": {},
   "outputs": [],
   "source": [
    "# Fonksiyon Oluşturma\n",
    "def topla(sayi1, sayi2):\n",
    "    toplam = sayi1 + sayi2\n",
    "    print(toplam)\n",
    "\n",
    "def cikar(sayi1, sayi2):\n",
    "    cikartma = sayi1 - sayi2\n",
    "    print(cikartma)\n",
    "\n",
    "def carp(sayi1, sayi2):\n",
    "    carpma = sayi1 * sayi2\n",
    "    print(carpma)\n",
    "\n",
    "def bol(sayi1, sayi2):\n",
    "    bolme = sayi1 / sayi2\n",
    "    print(bolme)\n",
    "\n",
    "def mod(sayi1, sayi2):\n",
    "    modalma = sayi1 % sayi2\n",
    "    print(modalma)"
   ]
  },
  {
   "cell_type": "code",
   "execution_count": null,
   "metadata": {},
   "outputs": [],
   "source": [
    "# Oluşturulmuş Fonksiyonları Kullanma\n",
    "secim = \"Q\"\n",
    "\n",
    "print(\"1) Topla\")\n",
    "print(\"2) Çıkart\")\n",
    "print(\"3) Böl\")\n",
    "print(\"4) Çarp\")\n",
    "print(\"5) Mod Alma\")\n",
    "secim = input(\"Lütfen Seçim Yapınız\")\n",
    "if secim == \"1\":\n",
    "    s1 = int(input(\"Lütfen Bir Sayı Giriniz\"))\n",
    "    s2 = int(input(\"Lütfen Bir Sayı Giriniz\"))\n",
    "    topla(s1, s2)\n",
    "elif secim == \"2\":\n",
    "    s1 = int(input(\"Lütfen Bir Sayı Giriniz\"))\n",
    "    s2 = int(input(\"Lütfen Bir Sayı Giriniz\"))\n",
    "    cikar(s1, s2)\n",
    "elif secim == \"3\":\n",
    "    s1 = int(input(\"Lütfen Bir Sayı Giriniz\"))\n",
    "    s2 = int(input(\"Lütfen Bir Sayı Giriniz\"))\n",
    "    bol(s1, s2)\n",
    "elif secim == \"4\":\n",
    "    s1 = int(input(\"Lütfen Bir Sayı Giriniz\"))\n",
    "    s2 = int(input(\"Lütfen Bir Sayı Giriniz\"))\n",
    "    carp(s1, s2)\n",
    "elif secim == \"5\":\n",
    "    s1 = int(input(\"Lütfen Bir Sayı Giriniz\"))\n",
    "    s2 = int(input(\"Lütfen Bir Sayı Giriniz\"))\n",
    "    mod(s1, s2)\n",
    "else:\n",
    "    print(\"Geçerli Bir Seçenek Girmediniz\")"
   ]
  }
 ],
 "metadata": {
  "kernelspec": {
   "display_name": "Python 3.10.8 64-bit",
   "language": "python",
   "name": "python3"
  },
  "language_info": {
   "codemirror_mode": {
    "name": "ipython",
    "version": 3
   },
   "file_extension": ".py",
   "mimetype": "text/x-python",
   "name": "python",
   "nbconvert_exporter": "python",
   "pygments_lexer": "ipython3",
   "version": "3.10.8"
  },
  "orig_nbformat": 4,
  "vscode": {
   "interpreter": {
    "hash": "81b02ec2e8252d4d27e8f5a7dd14df3a24d0b70297d5edae178d6b04e5ee4e4b"
   }
  }
 },
 "nbformat": 4,
 "nbformat_minor": 2
}
